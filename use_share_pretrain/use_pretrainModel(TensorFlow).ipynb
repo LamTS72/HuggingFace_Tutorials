{
  "cells": [
    {
      "cell_type": "markdown",
      "metadata": {
        "id": "m26SuBWi63g5"
      },
      "source": [
        "# Sử dụng các mô hình huấn luyện trước (TensorFlow)"
      ]
    },
    {
      "cell_type": "markdown",
      "metadata": {
        "id": "5_mHtvTY63g6"
      },
      "source": [
        "Install the Transformers, Datasets, and Evaluate libraries to run this notebook."
      ]
    },
    {
      "cell_type": "code",
      "execution_count": null,
      "metadata": {
        "id": "bnSy9lfZ63g6"
      },
      "outputs": [],
      "source": [
        "!pip install datasets evaluate transformers[sentencepiece]"
      ]
    },
    {
      "cell_type": "code",
      "execution_count": 8,
      "metadata": {
        "id": "h1fiMUlf63g7",
        "outputId": "72e3c733-dc6e-4dde-a55d-9a1dc8289c61",
        "colab": {
          "base_uri": "https://localhost:8080/"
        }
      },
      "outputs": [
        {
          "output_type": "stream",
          "name": "stderr",
          "text": [
            "Some weights of the model checkpoint at camembert-base were not used when initializing CamembertForMaskedLM: ['roberta.pooler.dense.bias', 'roberta.pooler.dense.weight']\n",
            "- This IS expected if you are initializing CamembertForMaskedLM from the checkpoint of a model trained on another task or with another architecture (e.g. initializing a BertForSequenceClassification model from a BertForPreTraining model).\n",
            "- This IS NOT expected if you are initializing CamembertForMaskedLM from the checkpoint of a model that you expect to be exactly identical (initializing a BertForSequenceClassification model from a BertForSequenceClassification model).\n"
          ]
        }
      ],
      "source": [
        "from transformers import pipeline\n",
        "\n",
        "camembert_fill_mask = pipeline(\"fill-mask\", model=\"camembert-base\")\n",
        "results = camembert_fill_mask(\"Le camembert est <mask> :)\")\n"
      ]
    },
    {
      "cell_type": "code",
      "source": [
        "results"
      ],
      "metadata": {
        "colab": {
          "base_uri": "https://localhost:8080/"
        },
        "id": "99uAEIbW7ojY",
        "outputId": "739542ad-b572-4063-fac8-4cb6e3530f8b"
      },
      "execution_count": 11,
      "outputs": [
        {
          "output_type": "execute_result",
          "data": {
            "text/plain": [
              "[{'score': 0.490911602973938,\n",
              "  'token': 7200,\n",
              "  'token_str': 'délicieux',\n",
              "  'sequence': 'Le camembert est délicieux :)'},\n",
              " {'score': 0.10556967556476593,\n",
              "  'token': 2183,\n",
              "  'token_str': 'excellent',\n",
              "  'sequence': 'Le camembert est excellent :)'},\n",
              " {'score': 0.034533143043518066,\n",
              "  'token': 26202,\n",
              "  'token_str': 'succulent',\n",
              "  'sequence': 'Le camembert est succulent :)'},\n",
              " {'score': 0.03303126245737076,\n",
              "  'token': 528,\n",
              "  'token_str': 'meilleur',\n",
              "  'sequence': 'Le camembert est meilleur :)'},\n",
              " {'score': 0.030076367780566216,\n",
              "  'token': 1654,\n",
              "  'token_str': 'parfait',\n",
              "  'sequence': 'Le camembert est parfait :)'}]"
            ]
          },
          "metadata": {},
          "execution_count": 11
        }
      ]
    },
    {
      "cell_type": "code",
      "execution_count": null,
      "metadata": {
        "id": "N_YROtlb63g7"
      },
      "outputs": [],
      "source": [
        "from transformers import CamembertTokenizer, TFCamembertForMaskedLM\n",
        "\n",
        "tokenizer = CamembertTokenizer.from_pretrained(\"camembert-base\")\n",
        "model = TFCamembertForMaskedLM.from_pretrained(\"camembert-base\")"
      ]
    },
    {
      "cell_type": "code",
      "execution_count": null,
      "metadata": {
        "id": "5kx9a_Sr63g7"
      },
      "outputs": [],
      "source": [
        "from transformers import AutoTokenizer, TFAutoModelForMaskedLM\n",
        "\n",
        "tokenizer = AutoTokenizer.from_pretrained(\"camembert-base\")\n",
        "model = TFAutoModelForMaskedLM.from_pretrained(\"camembert-base\")"
      ]
    }
  ],
  "metadata": {
    "colab": {
      "provenance": []
    },
    "language_info": {
      "name": "python"
    },
    "kernelspec": {
      "name": "python3",
      "display_name": "Python 3"
    }
  },
  "nbformat": 4,
  "nbformat_minor": 0
}